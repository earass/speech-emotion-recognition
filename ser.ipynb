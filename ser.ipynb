{
 "cells": [
  {
   "cell_type": "code",
   "execution_count": 9,
   "metadata": {},
   "outputs": [],
   "source": []
  },
  {
   "cell_type": "markdown",
   "metadata": {},
   "source": [
    "#### Importing the required packages"
   ]
  },
  {
   "cell_type": "code",
   "execution_count": null,
   "metadata": {},
   "outputs": [],
   "source": [
    "import librosa\n",
    "import pandas as pd\n",
    "import os\n",
    "import numpy as np\n",
    "from sklearn.neural_network import MLPClassifier\n",
    "from sklearn.metrics import accuracy_score\n",
    "import pickle"
   ]
  },
  {
   "cell_type": "markdown",
   "metadata": {},
   "source": [
    "#### Setting some constants"
   ]
  },
  {
   "cell_type": "code",
   "execution_count": 11,
   "metadata": {},
   "outputs": [],
   "source": [
    "train_path = 'SERDataset/SERDataset/Train'\n",
    "test_path = 'SERDataset/SERDataset/Test'\n",
    "\n",
    "dataset_paths = {\n",
    "    \"Train\": train_path,\n",
    "    \"Test\": test_path\n",
    "}\n",
    "\n",
    "emotions = os.listdir(path=train_path)"
   ]
  },
  {
   "cell_type": "markdown",
   "metadata": {},
   "source": [
    "#### Creating a dataframe with audio filenames and their labels"
   ]
  },
  {
   "cell_type": "code",
   "execution_count": 12,
   "metadata": {},
   "outputs": [
    {
     "data": {
      "text/html": [
       "<div>\n",
       "<style scoped>\n",
       "    .dataframe tbody tr th:only-of-type {\n",
       "        vertical-align: middle;\n",
       "    }\n",
       "\n",
       "    .dataframe tbody tr th {\n",
       "        vertical-align: top;\n",
       "    }\n",
       "\n",
       "    .dataframe thead th {\n",
       "        text-align: right;\n",
       "    }\n",
       "</style>\n",
       "<table border=\"1\" class=\"dataframe\">\n",
       "  <thead>\n",
       "    <tr style=\"text-align: right;\">\n",
       "      <th></th>\n",
       "      <th>RecId</th>\n",
       "      <th>Emotion</th>\n",
       "      <th>Type</th>\n",
       "    </tr>\n",
       "  </thead>\n",
       "  <tbody>\n",
       "    <tr>\n",
       "      <th>0</th>\n",
       "      <td>SM1_F10_A010.wav</td>\n",
       "      <td>Angry</td>\n",
       "      <td>Train</td>\n",
       "    </tr>\n",
       "    <tr>\n",
       "      <th>1</th>\n",
       "      <td>SM1_F11_A011.wav</td>\n",
       "      <td>Angry</td>\n",
       "      <td>Train</td>\n",
       "    </tr>\n",
       "    <tr>\n",
       "      <th>2</th>\n",
       "      <td>SM1_F12_A012.wav</td>\n",
       "      <td>Angry</td>\n",
       "      <td>Train</td>\n",
       "    </tr>\n",
       "    <tr>\n",
       "      <th>3</th>\n",
       "      <td>SM1_F13_A013.wav</td>\n",
       "      <td>Angry</td>\n",
       "      <td>Train</td>\n",
       "    </tr>\n",
       "    <tr>\n",
       "      <th>4</th>\n",
       "      <td>SM1_F14_A014.wav</td>\n",
       "      <td>Angry</td>\n",
       "      <td>Train</td>\n",
       "    </tr>\n",
       "    <tr>\n",
       "      <th>...</th>\n",
       "      <td>...</td>\n",
       "      <td>...</td>\n",
       "      <td>...</td>\n",
       "    </tr>\n",
       "    <tr>\n",
       "      <th>440</th>\n",
       "      <td>SM26_F2_S092.wav</td>\n",
       "      <td>Sad</td>\n",
       "      <td>Test</td>\n",
       "    </tr>\n",
       "    <tr>\n",
       "      <th>441</th>\n",
       "      <td>SM27_F1_S093.wav</td>\n",
       "      <td>Sad</td>\n",
       "      <td>Test</td>\n",
       "    </tr>\n",
       "    <tr>\n",
       "      <th>442</th>\n",
       "      <td>SM27_F2_S094.wav</td>\n",
       "      <td>Sad</td>\n",
       "      <td>Test</td>\n",
       "    </tr>\n",
       "    <tr>\n",
       "      <th>443</th>\n",
       "      <td>SM27_F3_S095.wav</td>\n",
       "      <td>Sad</td>\n",
       "      <td>Test</td>\n",
       "    </tr>\n",
       "    <tr>\n",
       "      <th>444</th>\n",
       "      <td>SM27_F4_S096.wav</td>\n",
       "      <td>Sad</td>\n",
       "      <td>Test</td>\n",
       "    </tr>\n",
       "  </tbody>\n",
       "</table>\n",
       "<p>445 rows × 3 columns</p>\n",
       "</div>"
      ],
      "text/plain": [
       "                RecId Emotion   Type\n",
       "0    SM1_F10_A010.wav   Angry  Train\n",
       "1    SM1_F11_A011.wav   Angry  Train\n",
       "2    SM1_F12_A012.wav   Angry  Train\n",
       "3    SM1_F13_A013.wav   Angry  Train\n",
       "4    SM1_F14_A014.wav   Angry  Train\n",
       "..                ...     ...    ...\n",
       "440  SM26_F2_S092.wav     Sad   Test\n",
       "441  SM27_F1_S093.wav     Sad   Test\n",
       "442  SM27_F2_S094.wav     Sad   Test\n",
       "443  SM27_F3_S095.wav     Sad   Test\n",
       "444  SM27_F4_S096.wav     Sad   Test\n",
       "\n",
       "[445 rows x 3 columns]"
      ]
     },
     "execution_count": 12,
     "metadata": {},
     "output_type": "execute_result"
    }
   ],
   "source": [
    "ids = pd.DataFrame()\n",
    "for emotion in emotions:\n",
    "    recordings_train = os.listdir(path=f\"{train_path}/{emotion}\")\n",
    "    recordings_test = os.listdir(path=f\"{test_path}/{emotion}\")\n",
    "    ids = pd.concat(\n",
    "        [\n",
    "            ids,\n",
    "            pd.DataFrame({\n",
    "                \"RecId\": recordings_train,\n",
    "                \"Emotion\": [emotion] * len(recordings_train),\n",
    "                \"Type\": ['Train'] * len(recordings_train)\n",
    "            }),\n",
    "            pd.DataFrame({\n",
    "                \"RecId\": recordings_test,\n",
    "                \"Emotion\": [emotion] * len(recordings_test),\n",
    "                \"Type\": ['Test'] * len(recordings_test)\n",
    "            })\n",
    "        ], ignore_index=True\n",
    "    )\n",
    "ids"
   ]
  },
  {
   "cell_type": "markdown",
   "metadata": {},
   "source": [
    "#### Creating a function to extract features for single audio signal. The features used are mfcc and spectral centroid."
   ]
  },
  {
   "cell_type": "code",
   "execution_count": 13,
   "metadata": {},
   "outputs": [],
   "source": [
    "def extract_features(signal_sr):\n",
    "    signal, sr = signal_sr[0], signal_sr[1]\n",
    "    all_features = np.array([])\n",
    "    mfccs = np.mean(librosa.feature.mfcc(y=signal, sr=sr, n_mfcc=40).T, axis=0)\n",
    "    all_features = np.hstack((all_features, mfccs))\n",
    "\n",
    "    spectral_centroids = np.mean(librosa.feature.spectral_centroid(signal, sr=sr).T, axis=0)\n",
    "    all_features = np.hstack((all_features, spectral_centroids))\n",
    "    return all_features"
   ]
  },
  {
   "cell_type": "markdown",
   "metadata": {},
   "source": [
    "#### Creating a function to load an audio file as signal, using 16000 sampling rate"
   ]
  },
  {
   "cell_type": "code",
   "execution_count": 14,
   "metadata": {},
   "outputs": [],
   "source": [
    "def load_file(file_path):\n",
    "    return librosa.load(file_path, sr=16000)"
   ]
  },
  {
   "cell_type": "markdown",
   "metadata": {},
   "source": [
    "#### Below function creates features and assigns numeric labels for all Train/Test records"
   ]
  },
  {
   "cell_type": "code",
   "execution_count": 16,
   "metadata": {},
   "outputs": [],
   "source": [
    "def add_features(dataset_type='Train'):\n",
    "    files = ids.copy().loc[ids['Type'] == dataset_type]\n",
    "    files['SignalSR'] = files.apply(\n",
    "        lambda x: load_file(\n",
    "            f\"{dataset_paths[dataset_type]}/{x['Emotion']}/{x['RecId']}\"\n",
    "        ), axis=1\n",
    "    )\n",
    "    files['X'] = files['SignalSR'].apply(extract_features)\n",
    "    files['y'] = files['Emotion'].apply(lambda x: emotions.index(x))\n",
    "    return files"
   ]
  },
  {
   "cell_type": "markdown",
   "metadata": {},
   "source": [
    "#### Function to train the model using the features and labels. I have used Multilayered perceptron with 'adam' optimizer. The trained model is saved as a pickle"
   ]
  },
  {
   "cell_type": "code",
   "execution_count": 18,
   "metadata": {},
   "outputs": [],
   "source": [
    "def train_model(x_train, y_train, model_name):\n",
    "    cls = MLPClassifier(solver='adam', hidden_layer_sizes=(200,))\n",
    "    cls.fit(x_train, y_train)\n",
    "    pickle.dump(cls, open(model_name, \"wb\"))"
   ]
  },
  {
   "cell_type": "markdown",
   "metadata": {},
   "source": [
    "#### Below function loads the saved model and predicts the label given the test example as a feature"
   ]
  },
  {
   "cell_type": "code",
   "execution_count": 19,
   "metadata": {},
   "outputs": [],
   "source": [
    "def get_prediction(x_test, model_name):\n",
    "    cls = pickle.load(open(model_name, \"rb\"))\n",
    "    return cls.predict(x_test)"
   ]
  },
  {
   "cell_type": "markdown",
   "metadata": {},
   "source": [
    "#### Main execution of the SER"
   ]
  },
  {
   "cell_type": "code",
   "execution_count": 26,
   "metadata": {},
   "outputs": [
    {
     "name": "stdout",
     "output_type": "stream",
     "text": [
      "Accuracy: 98.33333333333333\n"
     ]
    }
   ],
   "source": [
    "model_name = \"ser_classifier_mlp.model\"\n",
    "train = add_features(dataset_type='Train')\n",
    "train_model(train['X'].tolist(), train['y'].tolist(), model_name)\n",
    "\n",
    "test = add_features(dataset_type='Test')\n",
    "test['PredictedY'] = get_prediction(test['X'].tolist(), model_name)\n",
    "test['PredictedEmotion'] = test['PredictedY'].apply(lambda x: emotions[x])\n",
    "print(\"Accuracy:\", accuracy_score(test['y'], test['PredictedY'])*100)\n",
    "\n",
    "test[['RecId', 'Emotion', 'PredictedEmotion']].to_csv('Predictions.csv', index=False)"
   ]
  },
  {
   "cell_type": "code",
   "execution_count": null,
   "metadata": {},
   "outputs": [],
   "source": []
  }
 ],
 "metadata": {
  "kernelspec": {
   "display_name": "Python 3",
   "language": "python",
   "name": "python3"
  },
  "language_info": {
   "codemirror_mode": {
    "name": "ipython",
    "version": 3
   },
   "file_extension": ".py",
   "mimetype": "text/x-python",
   "name": "python",
   "nbconvert_exporter": "python",
   "pygments_lexer": "ipython3",
   "version": "3.7.7"
  }
 },
 "nbformat": 4,
 "nbformat_minor": 4
}
